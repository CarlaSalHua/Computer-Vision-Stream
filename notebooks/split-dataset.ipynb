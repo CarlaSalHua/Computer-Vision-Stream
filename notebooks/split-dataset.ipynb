{
 "cells": [
  {
   "cell_type": "code",
   "execution_count": 1,
   "id": "9d049850",
   "metadata": {},
   "outputs": [
    {
     "name": "stdout",
     "output_type": "stream",
     "text": [
      "Train: 795, Val: 99, Test: 100\n"
     ]
    }
   ],
   "source": [
    "import random\n",
    "from pathlib import Path\n",
    "\n",
    "train_txt = Path(\"data/train.txt\")\n",
    "all_lines = [line.strip() for line in train_txt.open().readlines()]\n",
    "random.seed(42)\n",
    "random.shuffle(all_lines)\n",
    "\n",
    "total = len(all_lines)\n",
    "train_split = int(0.8 * total)\n",
    "val_split = int(0.9 * total)\n",
    "\n",
    "train_lines = all_lines[:train_split]\n",
    "val_lines = all_lines[train_split:val_split]\n",
    "test_lines = all_lines[val_split:]\n",
    "\n",
    "Path(\"train.txt\").write_text(\"\\n\".join(train_lines))\n",
    "Path(\"val.txt\").write_text(\"\\n\".join(val_lines))\n",
    "Path(\"test.txt\").write_text(\"\\n\".join(test_lines))\n",
    "\n",
    "print(f\"Train: {len(train_lines)}, Val: {len(val_lines)}, Test: {len(test_lines)}\")\n"
   ]
  },
  {
   "cell_type": "code",
   "execution_count": null,
   "id": "77b9cd9f",
   "metadata": {},
   "outputs": [],
   "source": []
  }
 ],
 "metadata": {
  "kernelspec": {
   "display_name": "retail-object-detection (3.10.12)",
   "language": "python",
   "name": "python3"
  },
  "language_info": {
   "codemirror_mode": {
    "name": "ipython",
    "version": 3
   },
   "file_extension": ".py",
   "mimetype": "text/x-python",
   "name": "python",
   "nbconvert_exporter": "python",
   "pygments_lexer": "ipython3",
   "version": "3.10.12"
  }
 },
 "nbformat": 4,
 "nbformat_minor": 5
}
